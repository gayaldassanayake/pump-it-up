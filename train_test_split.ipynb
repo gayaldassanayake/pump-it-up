{
  "nbformat": 4,
  "nbformat_minor": 2,
  "metadata": {
    "colab": {
      "name": "train-test-split.ipynb",
      "provenance": []
    },
    "kernelspec": {
      "name": "python3",
      "display_name": "Python 3"
    },
    "language_info": {
      "name": "python"
    }
  },
  "cells": [
    {
      "cell_type": "markdown",
      "source": [
        "Splits the original dataset into train, test datasets"
      ],
      "metadata": {}
    },
    {
      "cell_type": "code",
      "execution_count": 2,
      "source": [
        "from google.colab import drive\n",
        "drive.mount('/content/drive')"
      ],
      "outputs": [
        {
          "output_type": "stream",
          "name": "stdout",
          "text": [
            "Mounted at /content/drive\n"
          ]
        }
      ],
      "metadata": {
        "colab": {
          "base_uri": "https://localhost:8080/"
        },
        "id": "5w8Ss2xoU_cl",
        "outputId": "0fff06f4-7249-4412-ba5c-717555ad78b2"
      }
    },
    {
      "cell_type": "code",
      "execution_count": 3,
      "source": [
        "import pandas as pd\n",
        "import numpy as np\n",
        "from sklearn.preprocessing import LabelEncoder"
      ],
      "outputs": [],
      "metadata": {
        "id": "nXPkSVANV7Km"
      }
    },
    {
      "cell_type": "code",
      "execution_count": 4,
      "source": [
        "# train feature ds\n",
        "feature_path = '/content/drive/MyDrive/Semester7/ML/project/data/pump-train.csv'\n",
        "train_features = pd.read_csv(feature_path)\n",
        "\n",
        "# label ds\n",
        "label_path = '/content/drive/MyDrive/Semester7/ML/project/data/pump-labels.csv'\n",
        "labels = pd.read_csv(label_path)\n",
        "\n",
        "lb_make = LabelEncoder()\n",
        "labels['label'] = lb_make.fit_transform(labels['status_group'])\n",
        "\n",
        "# train ds\n",
        "train_features = pd.merge(train_features, labels[['id', 'label']], on='id')\n",
        "labels.head()"
      ],
      "outputs": [
        {
          "output_type": "execute_result",
          "data": {
            "text/plain": [
              "      id    status_group  label\n",
              "0  69572      functional      0\n",
              "1   8776      functional      0\n",
              "2  34310      functional      0\n",
              "3  67743  non functional      2\n",
              "4  19728      functional      0"
            ],
            "text/html": [
              "<div>\n",
              "<style scoped>\n",
              "    .dataframe tbody tr th:only-of-type {\n",
              "        vertical-align: middle;\n",
              "    }\n",
              "\n",
              "    .dataframe tbody tr th {\n",
              "        vertical-align: top;\n",
              "    }\n",
              "\n",
              "    .dataframe thead th {\n",
              "        text-align: right;\n",
              "    }\n",
              "</style>\n",
              "<table border=\"1\" class=\"dataframe\">\n",
              "  <thead>\n",
              "    <tr style=\"text-align: right;\">\n",
              "      <th></th>\n",
              "      <th>id</th>\n",
              "      <th>status_group</th>\n",
              "      <th>label</th>\n",
              "    </tr>\n",
              "  </thead>\n",
              "  <tbody>\n",
              "    <tr>\n",
              "      <th>0</th>\n",
              "      <td>69572</td>\n",
              "      <td>functional</td>\n",
              "      <td>0</td>\n",
              "    </tr>\n",
              "    <tr>\n",
              "      <th>1</th>\n",
              "      <td>8776</td>\n",
              "      <td>functional</td>\n",
              "      <td>0</td>\n",
              "    </tr>\n",
              "    <tr>\n",
              "      <th>2</th>\n",
              "      <td>34310</td>\n",
              "      <td>functional</td>\n",
              "      <td>0</td>\n",
              "    </tr>\n",
              "    <tr>\n",
              "      <th>3</th>\n",
              "      <td>67743</td>\n",
              "      <td>non functional</td>\n",
              "      <td>2</td>\n",
              "    </tr>\n",
              "    <tr>\n",
              "      <th>4</th>\n",
              "      <td>19728</td>\n",
              "      <td>functional</td>\n",
              "      <td>0</td>\n",
              "    </tr>\n",
              "  </tbody>\n",
              "</table>\n",
              "</div>"
            ]
          },
          "metadata": {},
          "execution_count": 4
        }
      ],
      "metadata": {
        "colab": {
          "base_uri": "https://localhost:8080/",
          "height": 204
        },
        "id": "Ipoplf2DXKF_",
        "outputId": "5a45b7dd-1543-46f9-defe-10091483b3c5"
      }
    },
    {
      "cell_type": "code",
      "execution_count": 5,
      "source": [
        "msk = np.random.rand(len(train_features)) < 0.95\n",
        "train_df = train_features[msk]\n",
        "test_df = train_features[~msk]\n",
        "print(len(train_df), len(test_df))"
      ],
      "outputs": [
        {
          "output_type": "stream",
          "name": "stdout",
          "text": [
            "56364 3036\n"
          ]
        }
      ],
      "metadata": {
        "colab": {
          "base_uri": "https://localhost:8080/"
        },
        "id": "HlB-1yRMW_4N",
        "outputId": "2416af9b-9815-495e-e026-0c47b4398b99"
      }
    },
    {
      "cell_type": "code",
      "execution_count": 6,
      "source": [
        "train_df.to_csv(\"/content/drive/MyDrive/Semester7/ML/project/data/train-split.csv\")\n",
        "test_df.to_csv(\"/content/drive/MyDrive/Semester7/ML/project/data/test-split.csv\")"
      ],
      "outputs": [],
      "metadata": {
        "id": "qwmSZs1rYeJa"
      }
    }
  ]
}